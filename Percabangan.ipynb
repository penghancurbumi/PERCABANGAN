{
 "cells": [
  {
   "cell_type": "code",
   "execution_count": 4,
   "id": "98f9fb59",
   "metadata": {},
   "outputs": [
    {
     "name": "stdout",
     "output_type": "stream",
     "text": [
      "masukan nilai :6\n",
      "6 adalah bilangan genap\n"
     ]
    }
   ],
   "source": [
    "nilai = int(input('masukan nilai :'))\n",
    "sisa_bagi = nilai % 2\n",
    "\n",
    "if sisa_bagi==0:\n",
    "    print(f'{nilai} adalah bilangan genap')\n",
    "else:\n",
    "    print(f'{nilai} adalah bilangan ganjil')\n",
    "print('program selesai')"
   ]
  },
  {
   "cell_type": "code",
   "execution_count": null,
   "id": "f3351eb2",
   "metadata": {},
   "outputs": [],
   "source": [
    "nilai_program = int(input('isikan Nilai Pemograman :'))\n",
    "\n",
    "\n",
    "if nilai_program < 0 or nilai_program > 100:\n",
    "    print(\"Nilai anda salah\")\n",
    "else:\n",
    "    if nilai_program < 50:\n",
    "        print(\"E\")\n",
    "    elif nilai_program < 60:\n",
    "        print(\"D\")\n",
    "    elif nilai_program < 70:\n",
    "        print(\"C\")\n",
    "    elif nilai_program < 85:\n",
    "        print(\"B\")\n",
    "    elif nilai_program <= 100:\n",
    "        print(\"A\")"
   ]
  },
  {
   "cell_type": "code",
   "execution_count": 5,
   "id": "68ceee0a",
   "metadata": {},
   "outputs": [
    {
     "name": "stdout",
     "output_type": "stream",
     "text": [
      "isikan username : admin\n",
      "isikan password : admin\n",
      "Selamat datang admin\n"
     ]
    }
   ],
   "source": [
    "username = input('isikan username : ')\n",
    "password = input('isikan password : ')\n",
    "\n",
    "#jika username salah => username anda salah \n",
    "#jika password salah => password anda salah\n",
    "#jika keduanya salah => usename dan password anda salah\n",
    "#jika keduanya benar => selamat datang (username)\n",
    "#usename: admin\n",
    "#password:admin\n",
    "\n",
    "if username == 'admin':\n",
    "    if password=='admin':\n",
    "        print(f'Selamat datang {username}')\n",
    "    else:\n",
    "        print(\"password anda salah\")\n",
    "else:\n",
    "    if password =='admin':\n",
    "        print(\"Username anda salah\")\n",
    "    else:\n",
    "        print(\"Username dan password anda salah\")\n"
   ]
  },
  {
   "cell_type": "code",
   "execution_count": 5,
   "id": "8c967552",
   "metadata": {
    "scrolled": true
   },
   "outputs": [
    {
     "name": "stdout",
     "output_type": "stream",
     "text": [
      "Masukan nama :panji\n",
      "Masukan umur :40\n",
      "Masukan tempat tinggal :Detroit\n",
      "Masukan uang tabungan :4\n",
      "panji tidak mencurigakan\n"
     ]
    }
   ],
   "source": [
    "nama = input(\"Masukan nama :\")\n",
    "umur = int(input(\"Masukan umur :\"))\n",
    "tempat_tinggal = input(\"Masukan tempat tinggal :\")\n",
    "uang_tabungan = int(input(\"Masukan uang tabungan :\"))\n",
    "\n",
    "pangkat =''\n",
    "if umur > 40:\n",
    "    if tempat_tinggal == \"Nevada\" or tempat_tinggal == \"New york\" or tempat_tinggal == \"Havana\":\n",
    "           if uang_tabungan > 10:\n",
    "                pangkat = \"Don\"\n",
    "elif umur >= 25 and umur <=  40:\n",
    "    if tempat_tinggal == \"New jersey\" or tempat_tinggal == \"Manhattan \" or tempat_tinggal == \"Boston\":\n",
    "           if uang_tabungan > 0 and uang_tabungan <= 2:\n",
    "                pangkat = \"Underboss\"        \n",
    "elif umur >= 18 and umur <=  24:\n",
    "    if tempat_tinggal == \"California\" or tempat_tinggal == \"Detroit\" or tempat_tinggal == \"Boston\":\n",
    "           if uang_tabungan < 1:\n",
    "                pangkat = \"Capo\"        \n",
    "           \n",
    "if pangkat !='':   \n",
    "    print(f'{nama} kemungkinan adalah seorang anggtota mafia dengan {pangkat}')\n",
    "else:\n",
    "    print(f'{nama} tidak mencurigakan')"
   ]
  },
  {
   "cell_type": "code",
   "execution_count": null,
   "id": "274b7471",
   "metadata": {},
   "outputs": [],
   "source": []
  },
  {
   "cell_type": "code",
   "execution_count": null,
   "id": "db1c855b",
   "metadata": {},
   "outputs": [],
   "source": []
  }
 ],
 "metadata": {
  "kernelspec": {
   "display_name": "Python 3 (ipykernel)",
   "language": "python",
   "name": "python3"
  },
  "language_info": {
   "codemirror_mode": {
    "name": "ipython",
    "version": 3
   },
   "file_extension": ".py",
   "mimetype": "text/x-python",
   "name": "python",
   "nbconvert_exporter": "python",
   "pygments_lexer": "ipython3",
   "version": "3.9.12"
  }
 },
 "nbformat": 4,
 "nbformat_minor": 5
}
